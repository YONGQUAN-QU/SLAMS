{
 "cells": [
  {
   "cell_type": "code",
   "execution_count": 1,
   "id": "4e17befd-4228-49d8-b0f7-5b5ffcfc18bd",
   "metadata": {
    "tags": []
   },
   "outputs": [],
   "source": [
    "%load_ext autoreload\n",
    "%autoreload 2"
   ]
  },
  {
   "cell_type": "code",
   "execution_count": null,
   "id": "96d00c9e-3d52-466d-8f1d-1072fc516d11",
   "metadata": {
    "tags": []
   },
   "outputs": [],
   "source": [
    "import sys\n",
    "sys.path.append('..')\n",
    "\n",
    "from slams.mcs import *\n",
    "from slams.nn import *\n",
    "from slams.score import *\n",
    "from slams.utils import *\n",
    "\n",
    "import matplotlib.pyplot as plt \n",
    "import seaborn as sns\n",
    "from tqdm import tqdm\n",
    "import yaml\n",
    "from pathlib import Path\n",
    "import pandas as pd"
   ]
  },
  {
   "cell_type": "markdown",
   "id": "24818608-be2e-43bf-8ffb-873c02f74887",
   "metadata": {
    "tags": []
   },
   "source": [
    "### Evaluation"
   ]
  },
  {
   "cell_type": "code",
   "execution_count": null,
   "id": "e559723b-c055-4892-956c-140f41aecb0f",
   "metadata": {
    "tags": []
   },
   "outputs": [],
   "source": [
    "# Load testing data\n",
    "size = (120, 240)\n",
    "test_years = np.arange(2021, 2023)\n",
    "testset = ERA5Dataset(years=test_years, size=size, window=64, flatten=False)"
   ]
  },
  {
   "cell_type": "code",
   "execution_count": null,
   "id": "91d80e3c-8d72-407f-9294-9d185840d16e",
   "metadata": {
    "tags": []
   },
   "outputs": [],
   "source": [
    "# Load saved model\n",
    "sda = load_model_from_checkpoint(model_name='sda_0', version_num=0, from_root=False)"
   ]
  },
  {
   "cell_type": "markdown",
   "id": "de88a492-1d26-4a03-bb90-d94a22ae4614",
   "metadata": {},
   "source": [
    "Generate low frequency observations for assimilation (in latent space)"
   ]
  },
  {
   "cell_type": "code",
   "execution_count": null,
   "id": "5434e657-a395-4569-b597-03002e8d97f3",
   "metadata": {
    "tags": []
   },
   "outputs": [],
   "source": [
    "def coarsen(x: Tensor, r: int = 2) -> Tensor:\n",
    "    *batch, h, w = x.shape\n",
    "\n",
    "    x = x.reshape(*batch, h // r, r, w // r, r)\n",
    "    x = x.mean(dim=(-3, -1))\n",
    "\n",
    "    return x\n",
    "\n",
    "def upsample(x: Tensor, r: int = 2, mode: str = 'bilinear') -> Tensor:\n",
    "    *batch, h, w = x.shape\n",
    "\n",
    "    x = x.reshape(-1, 1, h, w)\n",
    "    x = torch.nn.functional.pad(x, pad=(1, 1, 1, 1), mode='circular')\n",
    "    x = torch.nn.functional.interpolate(x, scale_factor=(r, r), mode=mode)\n",
    "    x = x[..., r:-r, r:-r]\n",
    "    x = x.reshape(*batch, r * h, r * w)\n",
    "\n",
    "    return x"
   ]
  },
  {
   "cell_type": "code",
   "execution_count": null,
   "id": "8b81ba82-2e45-4644-acda-f527e4eafee6",
   "metadata": {
    "tags": []
   },
   "outputs": [],
   "source": [
    "# Process label data\n",
    "test_x, _ = testset[0]\n",
    "true_x = test_x[:29]"
   ]
  },
  {
   "cell_type": "code",
   "execution_count": 7,
   "id": "7b2d4bc8-57cc-43ec-aaad-41460504f410",
   "metadata": {
    "tags": []
   },
   "outputs": [
    {
     "name": "stderr",
     "output_type": "stream",
     "text": [
      "100%|██████████████████████████████████████████████████████████████████████████████████████████████████████████████| 512/512 [23:09<00:00,  2.71s/it]\n",
      "100%|███████████████████████████████████████████████████████████████████████████████████████████████████████████████████████████████| 512/512 [15:55<00:00,  1.87s/it]\n",
      "100%|███████████████████████████████████████████████████████████████████████████████████████████████████████████████████████████████| 512/512 [19:43<00:00,  2.31s/it]\n",
      "100%|███████████████████████████████████████████████████████████████████████████████████████████████████████████████████████████████| 512/512 [19:42<00:00,  2.31s/it]\n",
      "100%|███████████████████████████████████████████████████████████████████████████████████████████████████████████████████████████████| 512/512 [19:41<00:00,  2.31s/it]\n"
     ]
    }
   ],
   "source": [
    "# Varying resolution\n",
    "coarsening_factors = [4, 8, 12, 15, 20]\n",
    "n_corrections = 1\n",
    "n_steps = 512\n",
    "tau = 0.5\n",
    "sigma_sq = 0.1\n",
    "input_size = sda.hparams.model_args['input_size']\n",
    "model_name = sda.hparams.model_args['model_name']\n",
    "\n",
    "distances = dict()\n",
    "\n",
    "for coarsening_f in coarsening_factors:\n",
    "    \n",
    "    # Process coarsen data\n",
    "    def A(x):\n",
    "        return coarsen(x[..., ::4, :, :, :], coarsening_f)\n",
    "\n",
    "    y_star = torch.normal(A(true_x), sigma_sq)\n",
    "\n",
    "    # For plotting\n",
    "    w_true = true_x[::4]\n",
    "    w_coarse = upsample(y_star, 2, mode='nearest')\n",
    "    \n",
    "    \n",
    "    all_x_sample = []\n",
    "\n",
    "    # Sampling for diffusion model\n",
    "    sde_eval = VPSDE(\n",
    "        GaussianScore(\n",
    "            y_star,\n",
    "            A=A,\n",
    "            std=sigma_sq,\n",
    "            sde=VPSDE(sda.score, shape=()),\n",
    "        ),\n",
    "        shape=true_x.shape).to(device)\n",
    "\n",
    "    x = sde_eval.sample(steps=n_steps, corrections=n_corrections, tau=tau)\n",
    "    x = x[::4]\n",
    "    all_x_sample.append(x)\n",
    "\n",
    "    # Combine all samples\n",
    "    all_x_sample = torch.stack(all_x_sample)\n",
    "    \n",
    "    # Save plots and results\n",
    "    docs_dir = Path(f'../docs/{model_name}')\n",
    "    \n",
    "    visual_dir = docs_dir / 'visual'\n",
    "    dist_dir = docs_dir / 'dist'\n",
    "    visual_dir.mkdir(parents=True, exist_ok=True)\n",
    "    dist_dir.mkdir(parents=True, exist_ok=True)\n",
    "    \n",
    "    for param_idx in range(input_size):\n",
    "        plot_assimilation_results(\n",
    "            w_true, \n",
    "            w_coarse, \n",
    "            all_x_sample, \n",
    "            param_idx=param_idx, \n",
    "            save_file=docs_dir / 'visual' / f'coarse={coarsening_f}_param={param_idx}.pdf')\n",
    "\n",
    "        wasserstein_d = plot_and_compute_distributions(\n",
    "            w_true, \n",
    "            all_x_sample, \n",
    "            param_idx=param_idx, \n",
    "            save_file=docs_dir / 'dist' / f'coarse={coarsening_f}_param={param_idx}.pdf')\n",
    "        \n",
    "        try:\n",
    "            distances[f'{param_idx}'].append(wasserstein_d)\n",
    "            \n",
    "        except:\n",
    "            distances[f'{param_idx}'] = [wasserstein_d]\n",
    "\n",
    "# Save metrics\n",
    "df = pd.DataFrame.from_dict(distances, orient='index', columns=coarsening_factors)\n",
    "df.to_csv(docs_dir / f'wasserstein_coarse.csv', index=False)"
   ]
  },
  {
   "cell_type": "code",
   "execution_count": 8,
   "id": "23bf1a17-f357-4930-8476-186ed3033bed",
   "metadata": {
    "tags": []
   },
   "outputs": [
    {
     "name": "stderr",
     "output_type": "stream",
     "text": [
      "100%|███████████████████████████████████████████████████████████████████████████████████████████████████████████████████████████████| 512/512 [20:07<00:00,  2.36s/it]\n",
      "100%|███████████████████████████████████████████████████████████████████████████████████████████████████████████████████████████████| 512/512 [19:53<00:00,  2.33s/it]\n",
      "100%|███████████████████████████████████████████████████████████████████████████████████████████████████████████████████████████████| 512/512 [19:52<00:00,  2.33s/it]\n",
      "100%|███████████████████████████████████████████████████████████████████████████████████████████████████████████████████████████████| 512/512 [19:57<00:00,  2.34s/it]\n"
     ]
    }
   ],
   "source": [
    "# Varying noise\n",
    "sigma_sqs = [0.5, 1.0, 2.0, 4.0]\n",
    "coarsening_f = 4\n",
    "n_corrections = 1\n",
    "n_steps = 512\n",
    "tau = 0.5\n",
    "input_size = sda.hparams.model_args['input_size']\n",
    "model_name = sda.hparams.model_args['model_name']\n",
    "\n",
    "distances = dict()\n",
    "\n",
    "for sigma_sq in sigma_sqs:\n",
    "    \n",
    "    # Process coarsen data\n",
    "    def A(x):\n",
    "        return coarsen(x[..., ::4, :, :, :], coarsening_f)\n",
    "\n",
    "    y_star = torch.normal(A(true_x), sigma_sq)\n",
    "\n",
    "    # For plotting\n",
    "    w_true = true_x[::4]\n",
    "    w_coarse = upsample(y_star, 2, mode='nearest')\n",
    "    \n",
    "    all_x_sample = []\n",
    "\n",
    "    # Sampling for diffusion model\n",
    "    sde_eval = VPSDE(\n",
    "        GaussianScore(\n",
    "            y_star,\n",
    "            A=A,\n",
    "            std=sigma_sq,\n",
    "            sde=VPSDE(sda.score, shape=()),\n",
    "        ),\n",
    "        shape=true_x.shape).to(device)\n",
    "\n",
    "    x = sde_eval.sample(steps=n_steps, corrections=n_corrections, tau=tau)\n",
    "    x = x[::4]\n",
    "    all_x_sample.append(x)\n",
    "\n",
    "    # Combine all samples\n",
    "    all_x_sample = torch.stack(all_x_sample)\n",
    "    \n",
    "    # Save plots and results\n",
    "    docs_dir = Path(f'../docs/{model_name}')\n",
    "    \n",
    "    visual_dir = docs_dir / 'visual'\n",
    "    dist_dir = docs_dir / 'dist'\n",
    "    visual_dir.mkdir(parents=True, exist_ok=True)\n",
    "    dist_dir.mkdir(parents=True, exist_ok=True)\n",
    "    \n",
    "    for param_idx in range(input_size):\n",
    "        plot_assimilation_results(\n",
    "            w_true, \n",
    "            w_coarse, \n",
    "            all_x_sample, \n",
    "            param_idx=param_idx, \n",
    "            save_file=docs_dir / 'visual' / f'noise={sigma_sq}_param={param_idx}.pdf')\n",
    "\n",
    "        wasserstein_d = plot_and_compute_distributions(\n",
    "            w_true, \n",
    "            all_x_sample, \n",
    "            param_idx=param_idx, \n",
    "            save_file=docs_dir / 'dist' / f'noise={sigma_sq}_param={param_idx}.pdf')\n",
    "        \n",
    "        try:\n",
    "            distances[f'{param_idx}'].append(wasserstein_d)\n",
    "            \n",
    "        except:\n",
    "            distances[f'{param_idx}'] = [wasserstein_d]\n",
    "\n",
    "# Save metrics\n",
    "df = pd.DataFrame.from_dict(distances, orient='index', columns=sigma_sqs)\n",
    "df.to_csv(docs_dir / f'wasserstein_noise.csv', index=False)"
   ]
  },
  {
   "cell_type": "code",
   "execution_count": 9,
   "id": "8b9aa6f0-99b3-42ba-8d23-67b3047d990d",
   "metadata": {
    "tags": []
   },
   "outputs": [
    {
     "name": "stderr",
     "output_type": "stream",
     "text": [
      "100%|███████████████████████████████████████████████████████████████████████████████████████████████████████████████████████████████| 512/512 [19:44<00:00,  2.31s/it]\n",
      "100%|███████████████████████████████████████████████████████████████████████████████████████████████████████████████████████████████| 512/512 [19:27<00:00,  2.28s/it]\n",
      "100%|███████████████████████████████████████████████████████████████████████████████████████████████████████████████████████████████| 512/512 [19:34<00:00,  2.29s/it]\n",
      "100%|███████████████████████████████████████████████████████████████████████████████████████████████████████████████████████████████| 512/512 [19:37<00:00,  2.30s/it]\n"
     ]
    }
   ],
   "source": [
    "# Varying sparsity\n",
    "gap_factors = [4, 8, 12, 16]\n",
    "n_corrections = 1\n",
    "n_steps = 512\n",
    "tau = 0.5\n",
    "sigma_sq = 0.1\n",
    "input_size = sda.hparams.model_args['input_size']\n",
    "model_name = sda.hparams.model_args['model_name']\n",
    "\n",
    "distances = dict()\n",
    "\n",
    "for gap_factor in gap_factors:\n",
    "    \n",
    "    # Process coarsen data\n",
    "    def A(x):\n",
    "        return x[..., 2::gap_factor, 2::gap_factor]\n",
    "\n",
    "    y_star = torch.normal(A(true_x), sigma_sq)\n",
    "\n",
    "    # For plotting\n",
    "    mask = np.zeros((8, 10, 120, 240), dtype=bool)\n",
    "    mask[..., 2::gap_factor, 2::gap_factor] = True\n",
    "\n",
    "    w_true = true_x[::4]\n",
    "    w_coarse = w_true * mask\n",
    "\n",
    "    all_x_sample = []\n",
    "\n",
    "    # Sampling for diffusion model\n",
    "    sde_eval = VPSDE(\n",
    "        GaussianScore(\n",
    "            y_star,\n",
    "            A=A,\n",
    "            std=sigma_sq,\n",
    "            sde=VPSDE(sda.score, shape=()),\n",
    "        ),\n",
    "        shape=true_x.shape).to(device)\n",
    "\n",
    "    x = sde_eval.sample(steps=n_steps, corrections=n_corrections, tau=tau)\n",
    "    x = x[::4]\n",
    "    all_x_sample.append(x)\n",
    "\n",
    "    # Combine all samples\n",
    "    all_x_sample = torch.stack(all_x_sample)\n",
    "    \n",
    "    # Save plots and results\n",
    "    docs_dir = Path(f'../docs/{model_name}')\n",
    "\n",
    "    visual_dir = docs_dir / 'visual'\n",
    "    dist_dir = docs_dir / 'dist'\n",
    "    visual_dir.mkdir(parents=True, exist_ok=True)\n",
    "    dist_dir.mkdir(parents=True, exist_ok=True)\n",
    "\n",
    "    for param_idx in range(input_size):\n",
    "        plot_assimilation_results(\n",
    "            w_true, \n",
    "            w_coarse, \n",
    "            all_x_sample, \n",
    "            param_idx=param_idx, \n",
    "            is_sparse=True,\n",
    "            save_file=docs_dir / 'visual' / f'gap={gap_factor}_param={param_idx}.pdf')\n",
    "        \n",
    "        wasserstein_d = plot_and_compute_distributions(\n",
    "            w_true, \n",
    "            all_x_sample, \n",
    "            param_idx=param_idx, \n",
    "            save_file=docs_dir / 'dist' / f'gap={gap_factor}_param={param_idx}.pdf')\n",
    "        \n",
    "        try:\n",
    "            distances[f'{param_idx}'].append(wasserstein_d)\n",
    "            \n",
    "        except:\n",
    "            distances[f'{param_idx}'] = [wasserstein_d]\n",
    "\n",
    "# Save metrics\n",
    "df = pd.DataFrame.from_dict(distances, orient='index', columns=gap_factors)\n",
    "df.to_csv(docs_dir / f'wasserstein_sparse.csv', index=False)"
   ]
  },
  {
   "cell_type": "code",
   "execution_count": null,
   "id": "4528fdcb-5665-404f-baa0-f591a9359399",
   "metadata": {},
   "outputs": [],
   "source": []
  }
 ],
 "metadata": {
  "kernelspec": {
   "display_name": "bench",
   "language": "python",
   "name": "bench"
  },
  "language_info": {
   "codemirror_mode": {
    "name": "ipython",
    "version": 3
   },
   "file_extension": ".py",
   "mimetype": "text/x-python",
   "name": "python",
   "nbconvert_exporter": "python",
   "pygments_lexer": "ipython3",
   "version": "3.9.18"
  }
 },
 "nbformat": 4,
 "nbformat_minor": 5
}
